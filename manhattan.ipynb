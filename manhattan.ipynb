{
 "cells": [
  {
   "cell_type": "code",
   "execution_count": null,
   "metadata": {},
   "outputs": [],
   "source": [
    "!pip install matplotlib"
   ]
  },
  {
   "cell_type": "code",
   "execution_count": null,
   "metadata": {},
   "outputs": [],
   "source": [
    "#Loading Image\n",
    "import cv2\n",
    "import numpy as np\n",
    "import matplotlib.pyplot as plt\n",
    "import matplotlib.image as mpimg"
   ]
  },
  {
   "cell_type": "code",
   "execution_count": null,
   "metadata": {},
   "outputs": [],
   "source": [
    "# Path to your image\n",
    "path = \"/Users/abhishek/Desktop/CS_Assignment/Images/Flower_binary.png\"   # replace with your file path\n",
    "\n",
    "# Read the image\n",
    "img = mpimg.imread(path)\n",
    "\n",
    "# Display the image in grayscale\n",
    "plt.imshow(img, cmap=\"gray\")\n",
    "plt.axis(\"off\")\n",
    "plt.show()"
   ]
  },
  {
   "cell_type": "code",
   "execution_count": null,
   "metadata": {},
   "outputs": [],
   "source": [
    "#Shape of Image\n",
    "print(img.shape)"
   ]
  },
  {
   "cell_type": "code",
   "execution_count": null,
   "metadata": {},
   "outputs": [],
   "source": [
    "#Resize Image\n",
    "resized_image = cv2.resize(img, (224, 224))\n",
    "plt.imshow(resized_image, cmap=\"gray\")\n",
    "plt.axis(\"off\")\n",
    "plt.show()"
   ]
  },
  {
   "cell_type": "code",
   "execution_count": null,
   "metadata": {},
   "outputs": [],
   "source": [
    "#printing the matrix of image\n",
    "print(resized_image[100:120,100:120])"
   ]
  },
  {
   "cell_type": "code",
   "execution_count": null,
   "metadata": {},
   "outputs": [],
   "source": [
    "resized_image_copy = resized_image.copy()"
   ]
  },
  {
   "cell_type": "code",
   "execution_count": null,
   "metadata": {},
   "outputs": [],
   "source": [
    "def manhattan_distance(resized_image, i, j):\n",
    "    rows, cols = resized_image.shape\n",
    "    min_dist = float('inf')\n",
    "    \n",
    "    for x in range(rows):\n",
    "        for y in range(cols):\n",
    "            if resized_image[x][y] == 0:  # background pixel\n",
    "                dist = abs(i - x) + abs(j - y)  # Manhattan distance\n",
    "                # dist = max(abs(i - x), abs(j - y)) for chessboard distance\n",
    "                if dist < min_dist:\n",
    "                    min_dist = dist\n",
    "    \n",
    "    return min_dist"
   ]
  },
  {
   "cell_type": "code",
   "execution_count": null,
   "metadata": {},
   "outputs": [],
   "source": [
    "# Manhattan Distance Calculation\n",
    "for i in range(224):\n",
    "    for j in range(224):\n",
    "        if resized_image[i][j] == 1:\n",
    "            resized_image[i][j] = manhattan_distance(resized_image, i, j)\n",
    "        else:\n",
    "            resized_image[i][j] = 0\n",
    "            "
   ]
  },
  {
   "cell_type": "code",
   "execution_count": null,
   "metadata": {},
   "outputs": [],
   "source": []
  },
  {
   "cell_type": "code",
   "execution_count": null,
   "metadata": {},
   "outputs": [],
   "source": [
    "#printing the matrix of image\n",
    "print(resized_image[100:120,100:120])"
   ]
  },
  {
   "cell_type": "code",
   "execution_count": null,
   "metadata": {},
   "outputs": [],
   "source": [
    "resized_image.shape"
   ]
  },
  {
   "cell_type": "code",
   "execution_count": null,
   "metadata": {},
   "outputs": [],
   "source": [
    "import matplotlib.pyplot as plt\n",
    "\n",
    "plt.figure(figsize=(10,5))\n",
    "\n",
    "# Original image\n",
    "plt.subplot(1, 2, 1)\n",
    "plt.title(\"Original Resized Image\")\n",
    "plt.imshow(resized_image_copy, cmap=\"gray\")\n",
    "plt.axis(\"off\")\n",
    "\n",
    "# Manhattan distance transform\n",
    "plt.subplot(1, 2, 2)\n",
    "plt.title(\"Manhattan Distance Image\")\n",
    "plt.imshow(resized_image, cmap=\"hot\")   # use 'hot' or 'jet' for better visualization\n",
    "plt.colorbar(label=\"Distance\")\n",
    "plt.axis(\"off\")\n",
    "\n",
    "plt.show()\n"
   ]
  },
  {
   "cell_type": "code",
   "execution_count": null,
   "metadata": {},
   "outputs": [],
   "source": [
    "## Combining all\n",
    "img_path = \"Images/Flower_binary.png\"\n",
    "\n",
    "# Read the image\n",
    "img = mpimg.imread(path)\n",
    "\n",
    "resized_image = cv2.resize(img, (224, 224))\n",
    "\n",
    "resized_image_copy = resized_image.copy()\n",
    "\n",
    "# Manhattan Distance Calculation\n",
    "for i in range(224):\n",
    "    for j in range(224):\n",
    "        if resized_image[i][j] == 1:\n",
    "            resized_image[i][j] = manhattan_distance(resized_image, i, j)\n",
    "        else:\n",
    "            resized_image[i][j] = 0\n",
    "\n",
    "plt.figure(figsize=(10,5))\n",
    "\n",
    "# Original image\n",
    "plt.subplot(1, 2, 1)\n",
    "plt.title(\"Original Resized Image\")\n",
    "plt.imshow(resized_image_copy, cmap=\"gray\")\n",
    "plt.axis(\"off\")\n",
    "\n",
    "# Manhattan distance transform\n",
    "plt.subplot(1, 2, 2)\n",
    "plt.title(\"Manhattan Distance Image\")\n",
    "plt.imshow(resized_image, cmap=\"hot\")   # use 'hot' or 'jet' for better visualization\n",
    "plt.colorbar(label=\"Distance\")\n",
    "plt.axis(\"off\")\n",
    "\n",
    "plt.show()\n"
   ]
  },
  {
   "cell_type": "code",
   "execution_count": null,
   "metadata": {},
   "outputs": [],
   "source": [
    "## Combining all\n",
    "img_path = \"Images/Idol_binary.png\"\n",
    "\n",
    "# Read the image\n",
    "img = mpimg.imread(img_path)\n",
    "\n",
    "resized_image = cv2.resize(img, (224, 224))\n",
    "\n",
    "resized_image_copy = resized_image.copy()\n",
    "\n",
    "# Manhattan Distance Calculation\n",
    "for i in range(224):\n",
    "    for j in range(224):\n",
    "        if resized_image[i][j] == 1:\n",
    "            resized_image[i][j] = manhattan_distance(resized_image, i, j)\n",
    "        else:\n",
    "            resized_image[i][j] = 0\n",
    "\n",
    "plt.figure(figsize=(10,5))\n",
    "\n",
    "# Original image\n",
    "plt.subplot(1, 2, 1)\n",
    "plt.title(\"Original Resized Image\")\n",
    "plt.imshow(resized_image_copy, cmap=\"gray\")\n",
    "plt.axis(\"off\")\n",
    "\n",
    "# Manhattan distance transform\n",
    "plt.subplot(1, 2, 2)\n",
    "plt.title(\"Manhattan Distance Image\")\n",
    "plt.imshow(resized_image, cmap=\"hot\")   # use 'hot' or 'jet' for better visualization\n",
    "plt.colorbar(label=\"Distance\")\n",
    "plt.axis(\"off\")\n",
    "\n",
    "plt.show()\n"
   ]
  },
  {
   "cell_type": "code",
   "execution_count": null,
   "metadata": {},
   "outputs": [],
   "source": [
    "## Combining all\n",
    "img_path = \"Images/Vase_binary.png\"\n",
    "\n",
    "# Read the image\n",
    "img = mpimg.imread(img_path)\n",
    "\n",
    "resized_image = cv2.resize(img, (224, 224))\n",
    "\n",
    "resized_image_copy = resized_image.copy()\n",
    "\n",
    "# Manhattan Distance Calculation\n",
    "for i in range(224):\n",
    "    for j in range(224):\n",
    "        if resized_image[i][j] == 1:\n",
    "            resized_image[i][j] = manhattan_distance(resized_image, i, j)\n",
    "        else:\n",
    "            resized_image[i][j] = 0\n",
    "\n",
    "plt.figure(figsize=(10,5))\n",
    "\n",
    "# Original image\n",
    "plt.subplot(1, 2, 1)\n",
    "plt.title(\"Original Resized Image\")\n",
    "plt.imshow(resized_image_copy, cmap=\"gray\")\n",
    "plt.axis(\"off\")\n",
    "\n",
    "# Manhattan distance transform\n",
    "plt.subplot(1, 2, 2)\n",
    "plt.title(\"Manhattan Distance Image\")\n",
    "plt.imshow(resized_image, cmap=\"hot\")   # use 'hot' or 'jet' for better visualization\n",
    "plt.colorbar(label=\"Distance\")\n",
    "plt.axis(\"off\")\n",
    "\n",
    "plt.show()\n"
   ]
  }
 ],
 "metadata": {
  "kernelspec": {
   "display_name": "computervision",
   "language": "python",
   "name": "python3"
  },
  "language_info": {
   "codemirror_mode": {
    "name": "ipython",
    "version": 3
   },
   "file_extension": ".py",
   "mimetype": "text/x-python",
   "name": "python",
   "nbconvert_exporter": "python",
   "pygments_lexer": "ipython3",
   "version": "3.13.5"
  }
 },
 "nbformat": 4,
 "nbformat_minor": 2
}
